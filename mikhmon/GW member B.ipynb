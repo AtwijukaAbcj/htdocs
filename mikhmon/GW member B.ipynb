{
 "cells": [
  {
   "cell_type": "markdown",
   "metadata": {},
   "source": [
    "Code to Calculate Prices: European Options (Monte-Carlo Methods)"
   ]
  },
  {
   "cell_type": "code",
   "execution_count": 1,
   "metadata": {},
   "outputs": [
    {
     "data": {
      "text/plain": [
       "(4.584767794205709, 3.3647051996996353)"
      ]
     },
     "execution_count": 1,
     "metadata": {},
     "output_type": "execute_result"
    }
   ],
   "source": [
    "import numpy as np\n",
    "\n",
    "# Parameters\n",
    "S0 = 100  # Initial stock price\n",
    "K = 100   # Strike price\n",
    "T = 0.25  # Time to maturity (3 months)\n",
    "r = 0.05  # Risk-free rate\n",
    "sigma = 0.20  # Volatility\n",
    "n_simulations = 100000  # Number of Monte-Carlo simulations\n",
    "n_steps = int(T * 252)  # Daily time steps\n",
    "\n",
    "# Time increment\n",
    "dt = T / n_steps\n",
    "\n",
    "# Monte-Carlo simulation\n",
    "np.random.seed(42)\n",
    "Z = np.random.standard_normal((n_simulations, n_steps))\n",
    "S = np.zeros((n_simulations, n_steps + 1))\n",
    "S[:, 0] = S0\n",
    "for t in range(1, n_steps + 1):\n",
    "    S[:, t] = S[:, t-1] * np.exp((r - 0.5 * sigma**2) * dt + sigma * np.sqrt(dt) * Z[:, t-1])\n",
    "\n",
    "# Payoffs\n",
    "call_payoff = np.maximum(S[:, -1] - K, 0)\n",
    "put_payoff = np.maximum(K - S[:, -1], 0)\n",
    "\n",
    "# Discounted prices\n",
    "call_price = np.exp(-r * T) * np.mean(call_payoff)\n",
    "put_price = np.exp(-r * T) * np.mean(put_payoff)\n",
    "\n",
    "call_price, put_price\n"
   ]
  },
  {
   "cell_type": "markdown",
   "metadata": {},
   "source": [
    "Q6: Calculate Delta for European Options\n",
    "Delta is calculated by shocking the underlying asset price."
   ]
  },
  {
   "cell_type": "code",
   "execution_count": 2,
   "metadata": {},
   "outputs": [
    {
     "data": {
      "text/plain": [
       "(0.5692625808517704, -0.4305158456263669)"
      ]
     },
     "execution_count": 2,
     "metadata": {},
     "output_type": "execute_result"
    }
   ],
   "source": [
    "epsilon = 1e-4  # Small change in S0\n",
    "\n",
    "# Shock the initial price\n",
    "S0_up = S0 + epsilon\n",
    "\n",
    "# Re-run the simulation for the shocked price\n",
    "S_up = np.zeros((n_simulations, n_steps + 1))\n",
    "S_up[:, 0] = S0_up\n",
    "for t in range(1, n_steps + 1):\n",
    "    S_up[:, t] = S_up[:, t-1] * np.exp((r - 0.5 * sigma**2) * dt + sigma * np.sqrt(dt) * Z[:, t-1])\n",
    "\n",
    "# Payoffs with shocked price\n",
    "call_payoff_up = np.maximum(S_up[:, -1] - K, 0)\n",
    "put_payoff_up = np.maximum(K - S_up[:, -1], 0)\n",
    "\n",
    "# Calculate Delta\n",
    "delta_call = (np.exp(-r * T) * np.mean(call_payoff_up) - call_price) / epsilon\n",
    "delta_put = (np.exp(-r * T) * np.mean(put_payoff_up) - put_price) / epsilon\n",
    "\n",
    "delta_call, delta_put\n"
   ]
  },
  {
   "cell_type": "markdown",
   "metadata": {},
   "source": [
    "Q7: Calculate Vega for European Options\n",
    "Vega is calculated by shocking the volatility."
   ]
  },
  {
   "cell_type": "code",
   "execution_count": 3,
   "metadata": {},
   "outputs": [
    {
     "name": "stdout",
     "output_type": "stream",
     "text": [
      "Vega for European Call Option: 259.1190\n",
      "Vega for European Put Option: 154.3636\n"
     ]
    }
   ],
   "source": [
    "sigma_up = sigma + epsilon\n",
    "\n",
    "# Simulate paths with increased volatility\n",
    "paths_vega = np.zeros((n_simulations, n_steps + 1))\n",
    "paths_vega[:, 0] = S0\n",
    "\n",
    "for t in range(1, n_steps + 1):\n",
    "    z = np.random.standard_normal(n_simulations)\n",
    "    paths_vega[:, t] = paths_vega[:, t-1] * np.exp((r - 0.5 * sigma_up**2) * dt + sigma_up * np.sqrt(dt) * z)\n",
    "\n",
    "# Calculate payoffs\n",
    "call_payoff_vega = np.maximum(paths_vega[:, -1] - K, 0)\n",
    "put_payoff_vega = np.maximum(K - paths_vega[:, -1], 0)\n",
    "\n",
    "# Calculate Vega\n",
    "vega_call = (np.mean(call_payoff_vega) - np.mean(call_payoff)) / epsilon\n",
    "vega_put = (np.mean(put_payoff_vega) - np.mean(put_payoff)) / epsilon\n",
    "\n",
    "print(f\"Vega for European Call Option: {vega_call:.4f}\")\n",
    "print(f\"Vega for European Put Option: {vega_put:.4f}\")\n"
   ]
  },
  {
   "cell_type": "markdown",
   "metadata": {},
   "source": [
    "Step 2: American Options (Monte-Carlo Methods)\n",
    "Q5: Price the American Put Option\n",
    "For American options, you need to account for the possibility of early exercise at each time step."
   ]
  },
  {
   "cell_type": "code",
   "execution_count": 5,
   "metadata": {},
   "outputs": [
    {
     "data": {
      "text/plain": [
       "6.421956755971517"
      ]
     },
     "execution_count": 5,
     "metadata": {},
     "output_type": "execute_result"
    }
   ],
   "source": [
    "# Function to calculate American Put option price\n",
    "def american_put_price(S0, K, r, sigma, T, n_steps, n_simulations):\n",
    "    dt = T / n_steps\n",
    "    Z = np.random.standard_normal((n_simulations, n_steps))\n",
    "    S = np.zeros((n_simulations, n_steps + 1))\n",
    "    S[:, 0] = S0\n",
    "    payoff = np.zeros((n_simulations, n_steps + 1))\n",
    "    \n",
    "    for t in range(1, n_steps + 1):\n",
    "        S[:, t] = S[:, t-1] * np.exp((r - 0.5 * sigma**2) * dt + sigma * np.sqrt(dt) * Z[:, t-1])\n",
    "        payoff[:, t] = np.maximum(K - S[:, t], 0)  # Early exercise value\n",
    "    \n",
    "    payoff[:, -1] = np.maximum(K - S[:, -1], 0)  # Payoff at maturity\n",
    "    discounted_payoff = np.exp(-r * T) * np.max(payoff, axis=1)\n",
    "    \n",
    "    return np.mean(discounted_payoff)\n",
    "\n",
    "american_put_price(S0, K, r, sigma, T, n_steps, n_simulations)\n"
   ]
  },
  {
   "cell_type": "markdown",
   "metadata": {},
   "source": [
    "Q6: Calculate Delta for the American Put Option\n",
    "Delta is calculated similarly as before by shocking the underlying asset price."
   ]
  },
  {
   "cell_type": "code",
   "execution_count": 6,
   "metadata": {},
   "outputs": [
    {
     "data": {
      "text/plain": [
       "356.3220516830157"
      ]
     },
     "execution_count": 6,
     "metadata": {},
     "output_type": "execute_result"
    }
   ],
   "source": [
    "delta_am_put = (american_put_price(S0 + epsilon, K, r, sigma, T, n_steps, n_simulations) - american_put_price(S0, K, r, sigma, T, n_steps, n_simulations)) / epsilon\n",
    "\n",
    "delta_am_put\n"
   ]
  },
  {
   "cell_type": "markdown",
   "metadata": {},
   "source": [
    "Q7: Calculate Vega for the American Put Option\n",
    "Vega is calculated similarly as before by shocking the volatility."
   ]
  },
  {
   "cell_type": "code",
   "execution_count": 7,
   "metadata": {},
   "outputs": [
    {
     "data": {
      "text/plain": [
       "140.75759672379283"
      ]
     },
     "execution_count": 7,
     "metadata": {},
     "output_type": "execute_result"
    }
   ],
   "source": [
    "vega_am_put = (american_put_price(S0, K, r, sigma + epsilon, T, n_steps, n_simulations) - american_put_price(S0, K, r, sigma, T, n_steps, n_simulations)) / epsilon\n",
    "\n",
    "vega_am_put\n"
   ]
  },
  {
   "cell_type": "markdown",
   "metadata": {},
   "source": [
    "Step 3: Exotic Option Pricing (Monte-Carlo Methods)\n",
    "Price an Up-and-Out (UAO) Barrier Option"
   ]
  },
  {
   "cell_type": "code",
   "execution_count": 8,
   "metadata": {},
   "outputs": [
    {
     "data": {
      "text/plain": [
       "0.7955716279309807"
      ]
     },
     "execution_count": 8,
     "metadata": {},
     "output_type": "execute_result"
    }
   ],
   "source": [
    "# Parameters for UAO barrier option\n",
    "S0 = 120  # Initial stock price\n",
    "K = 120   # Strike price (ATM)\n",
    "T = 8/12  # Time to maturity (8 months)\n",
    "r = 0.06  # Risk-free rate\n",
    "sigma = 0.30  # Volatility\n",
    "barrier = 141  # Barrier level\n",
    "\n",
    "# Monte-Carlo simulation for UAO\n",
    "def uao_barrier_option_price(S0, K, r, sigma, T, barrier, n_simulations, n_steps):\n",
    "    dt = T / n_steps\n",
    "    Z = np.random.standard_normal((n_simulations, n_steps))\n",
    "    S = np.zeros((n_simulations, n_steps + 1))\n",
    "    S[:, 0] = S0\n",
    "    \n",
    "    for t in range(1, n_steps + 1):\n",
    "        S[:, t] = S[:, t-1] * np.exp((r - 0.5 * sigma**2) * dt + sigma * np.sqrt(dt) * Z[:, t-1])\n",
    "    \n",
    "    payoff = np.where(np.max(S, axis=1) < barrier, np.maximum(S[:, -1] - K, 0), 0)\n",
    "    return np.exp(-r * T) * np.mean(payoff)\n",
    "\n",
    "uao_price = uao_barrier_option_price(S0, K, r, sigma, T, barrier, n_simulations, n_steps)\n",
    "uao_price\n"
   ]
  }
 ],
 "metadata": {
  "kernelspec": {
   "display_name": "Python 3",
   "language": "python",
   "name": "python3"
  },
  "language_info": {
   "codemirror_mode": {
    "name": "ipython",
    "version": 3
   },
   "file_extension": ".py",
   "mimetype": "text/x-python",
   "name": "python",
   "nbconvert_exporter": "python",
   "pygments_lexer": "ipython3",
   "version": "3.11.5"
  }
 },
 "nbformat": 4,
 "nbformat_minor": 2
}
